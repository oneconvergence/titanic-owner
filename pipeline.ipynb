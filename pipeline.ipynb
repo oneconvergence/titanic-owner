{
 "cells": [
  {
   "cell_type": "code",
   "execution_count": null,
   "metadata": {},
   "outputs": [],
   "source": [
    "import sys\n",
    "!{sys.executable} -m pip install kfp >/dev/null"
   ]
  },
  {
   "cell_type": "code",
   "execution_count": null,
   "metadata": {},
   "outputs": [],
   "source": [
    "import os, json\n",
    "import kfp"
   ]
  },
  {
   "cell_type": "code",
   "execution_count": null,
   "metadata": {},
   "outputs": [],
   "source": [
    "components_url = \"https://raw.githubusercontent.com/oneconvergence/dkube/master/components/\"\n",
    "dkube_training_op = kfp.components.load_component_from_url(components_url + \"training/component.yaml\")\n",
    "dkube_storage_op  = kfp.components.load_component_from_url(components_url + \"storage/component.yaml\")\n",
    "dkube_submit_op = kfp.components.load_component_from_url(components_url + \"submit/component.yaml\")\n",
    "runid = 0"
   ]
  },
  {
   "cell_type": "code",
   "execution_count": null,
   "metadata": {},
   "outputs": [],
   "source": [
    "@kfp.dsl.pipeline(\n",
    "    name='dkube-titanic-pl',\n",
    "    description='example titanic pipeline to submit to leaderboard'\n",
    ")\n",
    "def titanic_pipeline(token, project_id):\n",
    "\n",
    "    train       = dkube_training_op(token, '{\"image\":\"ocdr/dkube-datascience-tf-cpu-multiuser:v2.0.0\"}',\n",
    "                                    framework=\"tensorflow\", version=\"2.0.0\",\n",
    "                                    program=\"titanic\", run_script=\"python train.py\",\n",
    "                                    datasets='[\"titanic-train\",\"titanic-test\"]', outputs='[\"titanic\"]',\n",
    "                                    input_dataset_mounts='[\"/titanic-train\",\"/titanic-test\"]',\n",
    "                                    output_mounts='[\"/model\"]',envs='[{\"EPOCHS\": \"1\"}]')\n",
    "\n",
    "\n",
    "    with kfp.dsl.ExitHandler(exit_op=dkube_storage_op(\"reclaim\", token, namespace=\"kubeflow\",uid=\"{{workflow.uid}}\")):\n",
    "        input_volumes = json.dumps([\"{{workflow.uid}}-dataset@dataset://ocdkube:titanic-test\",\n",
    "                                    \"{{workflow.uid}}-model@model://titanic\",\n",
    "                                    \"{{workflow.uid}}-code@program://titanic\"\n",
    "                                    ])\n",
    "        storage  = dkube_storage_op(\"export\", token, namespace=\"kubeflow\", input_volumes=input_volumes).after(train)\n",
    "\n",
    "    \n",
    "        predict_op = kfp.dsl.ContainerOp(\n",
    "            name=\"predict\",\n",
    "            image=\"ocdr/dkube-datascience-tf-cpu:v2.0.0\",\n",
    "            command=[\"python\", \"/code/predict.py\"],\n",
    "            pvolumes={\"/titanic-test/\": kfp.dsl.PipelineVolume(pvc=\"{{workflow.uid}}-dataset\"),\n",
    "                     \"/model/\": kfp.dsl.PipelineVolume(pvc=\"{{workflow.uid}}-model\"),\n",
    "                     \"/code/\": kfp.dsl.PipelineVolume(pvc=\"{{workflow.uid}}-code\")\n",
    "                     },\n",
    "            file_outputs={\"output\": \"/tmp/prediction.csv\"},\n",
    "        ).after(storage)\n",
    "\n",
    "        predictions = kfp.dsl.InputArgumentPath(predict_op.outputs[\"output\"])\n",
    "\n",
    "        submit = dkube_submit_op(token, project_id, predictions=predict_op.outputs[\"output\"]).after(predict_op)"
   ]
  },
  {
   "cell_type": "code",
   "execution_count": null,
   "metadata": {},
   "outputs": [],
   "source": [
    "token  = os.getenv(\"DKUBE_USER_ACCESS_TOKEN\")\n",
    "client = kfp.Client(existing_token=token)\n",
    "#Replace [titanic] & wprz8s with your project name and id respectively.\n",
    "client.create_run_from_pipeline_func(titanic_pipeline, run_name=\"[titanic] Run\" + str(runid), arguments={\"token\":token,\"project_id\":\"wprz8s\"})\n",
    "runid += 1"
   ]
  }
 ],
 "metadata": {
  "kernelspec": {
   "display_name": "Python 3",
   "language": "python",
   "name": "python3"
  },
  "language_info": {
   "codemirror_mode": {
    "name": "ipython",
    "version": 3
   },
   "file_extension": ".py",
   "mimetype": "text/x-python",
   "name": "python",
   "nbconvert_exporter": "python",
   "pygments_lexer": "ipython3",
   "version": "3.6.8"
  }
 },
 "nbformat": 4,
 "nbformat_minor": 4
}